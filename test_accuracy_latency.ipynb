{
 "cells": [
  {
   "cell_type": "raw",
   "metadata": {},
   "source": [
    "#  Copyright (C) 2020 Xilinx, Inc\n",
    "#\n",
    "#  Licensed under the Apache License, Version 2.0 (the \"License\");\n",
    "#  you may not use this file except in compliance with the License.\n",
    "#  You may obtain a copy of the License at\n",
    "#\n",
    "#      http://www.apache.org/licenses/LICENSE-2.0\n",
    "#\n",
    "#  Unless required by applicable law or agreed to in writing, software\n",
    "#  distributed under the License is distributed on an \"AS IS\" BASIS,\n",
    "#  WITHOUT WARRANTIES OR CONDITIONS OF ANY KIND, either express or implied.\n",
    "#  See the License for the specific language governing permissions and\n",
    "#  limitations under the License."
   ]
  },
  {
   "cell_type": "code",
   "execution_count": null,
   "metadata": {},
   "outputs": [],
   "source": [
    "import time"
   ]
  },
  {
   "cell_type": "markdown",
   "metadata": {},
   "source": [
    "Import your processing code"
   ]
  },
  {
   "cell_type": "code",
   "execution_count": null,
   "metadata": {},
   "outputs": [],
   "source": [
    "import utils"
   ]
  },
  {
   "cell_type": "markdown",
   "metadata": {},
   "source": [
    "Run all process"
   ]
  },
  {
   "cell_type": "code",
   "execution_count": null,
   "metadata": {},
   "outputs": [],
   "source": [
    "evaluate_file = \"./evaluation.py\"\n",
    "golden_file = \"./image.list.gt\"\n",
    "result_file = \"./image.list.result\"\n",
    "total_time = 0\n",
    "\n",
    "processor = utils.Processor()\n",
    "\n",
    "# Start timer\n",
    "start = time.time() \n",
    "# run processor and save output \n",
    "processor.run()\n",
    "#time.sleep(10)\n",
    "\n",
    "# timer stop after batch processing is complete\n",
    "end = time.time()\n",
    "total_time = end - start \n",
    "\n",
    "print('All processing time: {} seconds.'.format(total_time))\n",
    "print('\\nEvaluate accuracy:\\n')\n",
    "\n",
    "# run accuracy\n",
    "#%run ./evaluation.py ./image.list.gt ./image.list.result\n",
    "%run ./evaluation.py $golden_file $result_file"
   ]
  }
 ],
 "metadata": {
  "kernelspec": {
   "display_name": "Python 3",
   "language": "python",
   "name": "python3"
  },
  "language_info": {
   "codemirror_mode": {
    "name": "ipython",
    "version": 3
   },
   "file_extension": ".py",
   "mimetype": "text/x-python",
   "name": "python",
   "nbconvert_exporter": "python",
   "pygments_lexer": "ipython3",
   "version": "3.6.5"
  }
 },
 "nbformat": 4,
 "nbformat_minor": 4
}
